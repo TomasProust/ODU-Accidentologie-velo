{
 "cells": [
  {
   "attachments": {},
   "cell_type": "markdown",
   "metadata": {},
   "source": [
    "# Open Data University - Accidentologie à vélo\n",
    "\n",
    "Dans le cadre de l'opportunité Open Data University offert par *Latitudes*, nous nous sommes proposés pour un projet de *data visualization* autour de la problematiques de l'accidentologie à vélo pour apporté notre pierre à l'édifice parmis les grandes restructuration de la mobilité en France.\n",
    "\n",
    "Qui dit *data visualization* dit *data*.  \n",
    "Nous avons donc trouver après recherche sur *www.data.gouv.fr* [les bases de données annuelles des accidents corporels de la circulation routière](https://www.data.gouv.fr/fr/datasets/bases-de-donnees-annuelles-des-accidents-corporels-de-la-circulation-routiere-annees-de-2005-a-2021/), un ensemble de données qui donne notamment les accidents en vélo et en VAE (Vélo à Assistance Electrique). Cependant le dataset couvre un scope plus grand que notre sujet puisqu'il se porte sur l'intégralité des accidents de la circulation routière. Il nous faut donc tout d'abord procéder à un nettoyage de la donnée."
   ]
  },
  {
   "cell_type": "markdown",
   "metadata": {},
   "source": [
    "A partir de 2005, la notation des accidents est séparée entre 4 fichiers: Caractéristiques, Lieux, Véhicules, Usagers.  \n",
    "Et C'est à partir du fichier Véhicules que nous allons donc pouvoir sélectionner les accidents impliquant seulement des vélo ou VAE."
   ]
  },
  {
   "cell_type": "code",
   "execution_count": 17,
   "metadata": {
    "vscode": {
     "languageId": "shellscript"
    }
   },
   "outputs": [
    {
     "name": "stdout",
     "output_type": "stream",
     "text": [
      "Defaulting to user installation because normal site-packages is not writeable\n",
      "Requirement already satisfied: pandas in /home/tproust/.local/lib/python3.11/site-packages (1.5.2)\n",
      "Requirement already satisfied: python-dateutil>=2.8.1 in /usr/lib/python3.11/site-packages (from pandas) (2.8.2)\n",
      "Requirement already satisfied: pytz>=2020.1 in /home/tproust/.local/lib/python3.11/site-packages (from pandas) (2022.6)\n",
      "Requirement already satisfied: numpy>=1.21.0 in /home/tproust/.local/lib/python3.11/site-packages (from pandas) (1.23.5)\n",
      "Requirement already satisfied: six>=1.5 in /usr/lib/python3.11/site-packages (from python-dateutil>=2.8.1->pandas) (1.16.0)\n",
      "Note: you may need to restart the kernel to use updated packages.\n"
     ]
    }
   ],
   "source": [
    "pip install pandas"
   ]
  },
  {
   "cell_type": "code",
   "execution_count": 18,
   "metadata": {},
   "outputs": [],
   "source": [
    "# import pandas to download, read and filter .csv files\n",
    "import pandas as pd"
   ]
  },
  {
   "cell_type": "code",
   "execution_count": 19,
   "metadata": {},
   "outputs": [],
   "source": [
    "def get_base_url(year: int, category: str) -> str | None:\n",
    "    valid_categories: list[str] = ['caractéristiques', 'lieux', 'véhicules', 'usagers']\n",
    "    valid_years: list[int]= [2017, 2018, 2019, 2020, 2021]\n",
    "\n",
    "    if year not in valid_years or category not in valid_categories:\n",
    "        return\n",
    "    \n",
    "    # Get year idx as year are in descendant order in metadata file\n",
    "    year_idx: int = 2021 - year\n",
    "    return url_df.at[year_idx, category]"
   ]
  },
  {
   "cell_type": "code",
   "execution_count": 20,
   "metadata": {},
   "outputs": [],
   "source": [
    "def reformatCoords(old):\n",
    "    new = old.replace(',', '.')\n",
    "    return new"
   ]
  },
  {
   "cell_type": "code",
   "execution_count": 21,
   "metadata": {},
   "outputs": [],
   "source": [
    "def reformatDfCoords(df: pd.DataFrame):\n",
    "    df['lat'] = df['lat'].apply(reformatCoords)\n",
    "    df['long'] = df['long'].apply(reformatCoords)"
   ]
  },
  {
   "cell_type": "code",
   "execution_count": 22,
   "metadata": {},
   "outputs": [],
   "source": [
    "# the filepath to the .json file that contains all the dataset urls\n",
    "url_fp: str = \"data/metadata/urls.json\"\n",
    "\n",
    "# convert metadata file to dataframe which\n",
    "url_df: pd.DataFrame = pd.read_json(url_fp)"
   ]
  },
  {
   "cell_type": "code",
   "execution_count": 23,
   "metadata": {},
   "outputs": [],
   "source": [
    "c_url_2021: str | None = get_base_url(year=2021, category='caractéristiques')\n",
    "if c_url_2021 == None:\n",
    "    exit(0)"
   ]
  },
  {
   "cell_type": "code",
   "execution_count": 24,
   "metadata": {},
   "outputs": [],
   "source": [
    "v_url_2021: str | None = get_base_url(2021, 'véhicules')\n",
    "if v_url_2021 == None:\n",
    "    print(type(v_url_2021))\n",
    "    exit(0)"
   ]
  },
  {
   "cell_type": "code",
   "execution_count": 25,
   "metadata": {},
   "outputs": [],
   "source": [
    "u_url_2021: str | None = get_base_url(2021, 'usagers')\n",
    "if u_url_2021 == None:\n",
    "    print(type(u_url_2021))\n",
    "    exit(0)"
   ]
  },
  {
   "cell_type": "code",
   "execution_count": 26,
   "metadata": {},
   "outputs": [],
   "source": [
    "v_col: list[str] = ['Num_Acc', 'catv']\n",
    "# convert .csv file to pandas dataframe\n",
    "v_2021_df: pd.DataFrame = pd.read_csv(v_url_2021, sep=';', usecols=v_col, on_bad_lines='skip')\n",
    "labels: list[str] = [1, 50, 80]\n",
    "# filter the dataframe to bicycles only\n",
    "v_2021_df.query(\"catv == @labels\", inplace=True)\n",
    "# remove the duplicates\n",
    "v_2021_df.drop_duplicates(inplace=True)"
   ]
  },
  {
   "cell_type": "code",
   "execution_count": 27,
   "metadata": {},
   "outputs": [],
   "source": [
    "c_col: list[str] = ['Num_Acc', 'jour', 'mois', 'an', 'agg', 'lat', 'long']\n",
    "\n",
    "# convert .csv file to pandas dataframe\n",
    "c_2021_df: pd.DataFrame = pd.read_csv(c_url_2021, sep=';', usecols=c_col, on_bad_lines='skip')"
   ]
  },
  {
   "cell_type": "code",
   "execution_count": 28,
   "metadata": {},
   "outputs": [],
   "source": [
    "u_col: list[str] = ['Num_Acc', 'grav']\n",
    "\n",
    "# convert .csv file to pandas dataframe\n",
    "u_2021_df: pd.DataFrame = pd.read_csv(u_url_2021, sep=';', usecols=u_col, on_bad_lines='skip')"
   ]
  },
  {
   "cell_type": "code",
   "execution_count": 29,
   "metadata": {},
   "outputs": [],
   "source": [
    "v_c_u_2021_df: pd.DataFrame = pd.merge(pd.merge(v_2021_df, c_2021_df, on=['Num_Acc']), u_2021_df, on=['Num_Acc'])"
   ]
  },
  {
   "cell_type": "code",
   "execution_count": 30,
   "metadata": {},
   "outputs": [
    {
     "data": {
      "text/html": [
       "<div>\n",
       "<style scoped>\n",
       "    .dataframe tbody tr th:only-of-type {\n",
       "        vertical-align: middle;\n",
       "    }\n",
       "\n",
       "    .dataframe tbody tr th {\n",
       "        vertical-align: top;\n",
       "    }\n",
       "\n",
       "    .dataframe thead th {\n",
       "        text-align: right;\n",
       "    }\n",
       "</style>\n",
       "<table border=\"1\" class=\"dataframe\">\n",
       "  <thead>\n",
       "    <tr style=\"text-align: right;\">\n",
       "      <th></th>\n",
       "      <th>Num_Acc</th>\n",
       "      <th>catv</th>\n",
       "      <th>jour</th>\n",
       "      <th>mois</th>\n",
       "      <th>an</th>\n",
       "      <th>agg</th>\n",
       "      <th>lat</th>\n",
       "      <th>long</th>\n",
       "      <th>grav</th>\n",
       "    </tr>\n",
       "  </thead>\n",
       "  <tbody>\n",
       "    <tr>\n",
       "      <th>0</th>\n",
       "      <td>202100000001</td>\n",
       "      <td>1</td>\n",
       "      <td>30</td>\n",
       "      <td>11</td>\n",
       "      <td>2021</td>\n",
       "      <td>1</td>\n",
       "      <td>44,0389580000</td>\n",
       "      <td>4,3480220000</td>\n",
       "      <td>3</td>\n",
       "    </tr>\n",
       "    <tr>\n",
       "      <th>1</th>\n",
       "      <td>202100000001</td>\n",
       "      <td>1</td>\n",
       "      <td>30</td>\n",
       "      <td>11</td>\n",
       "      <td>2021</td>\n",
       "      <td>1</td>\n",
       "      <td>44,0389580000</td>\n",
       "      <td>4,3480220000</td>\n",
       "      <td>1</td>\n",
       "    </tr>\n",
       "    <tr>\n",
       "      <th>2</th>\n",
       "      <td>202100000006</td>\n",
       "      <td>1</td>\n",
       "      <td>23</td>\n",
       "      <td>11</td>\n",
       "      <td>2021</td>\n",
       "      <td>2</td>\n",
       "      <td>47,6142390000</td>\n",
       "      <td>7,2343360000</td>\n",
       "      <td>4</td>\n",
       "    </tr>\n",
       "    <tr>\n",
       "      <th>3</th>\n",
       "      <td>202100000006</td>\n",
       "      <td>1</td>\n",
       "      <td>23</td>\n",
       "      <td>11</td>\n",
       "      <td>2021</td>\n",
       "      <td>2</td>\n",
       "      <td>47,6142390000</td>\n",
       "      <td>7,2343360000</td>\n",
       "      <td>1</td>\n",
       "    </tr>\n",
       "    <tr>\n",
       "      <th>4</th>\n",
       "      <td>202100000038</td>\n",
       "      <td>1</td>\n",
       "      <td>2</td>\n",
       "      <td>9</td>\n",
       "      <td>2021</td>\n",
       "      <td>2</td>\n",
       "      <td>46,7668890000</td>\n",
       "      <td>4,4566240000</td>\n",
       "      <td>3</td>\n",
       "    </tr>\n",
       "    <tr>\n",
       "      <th>...</th>\n",
       "      <td>...</td>\n",
       "      <td>...</td>\n",
       "      <td>...</td>\n",
       "      <td>...</td>\n",
       "      <td>...</td>\n",
       "      <td>...</td>\n",
       "      <td>...</td>\n",
       "      <td>...</td>\n",
       "      <td>...</td>\n",
       "    </tr>\n",
       "    <tr>\n",
       "      <th>14675</th>\n",
       "      <td>202100056404</td>\n",
       "      <td>1</td>\n",
       "      <td>1</td>\n",
       "      <td>1</td>\n",
       "      <td>2021</td>\n",
       "      <td>2</td>\n",
       "      <td>48,6849869839</td>\n",
       "      <td>6,1760189384</td>\n",
       "      <td>1</td>\n",
       "    </tr>\n",
       "    <tr>\n",
       "      <th>14676</th>\n",
       "      <td>202100056424</td>\n",
       "      <td>1</td>\n",
       "      <td>2</td>\n",
       "      <td>1</td>\n",
       "      <td>2021</td>\n",
       "      <td>2</td>\n",
       "      <td>48,8769050000</td>\n",
       "      <td>2,3665940000</td>\n",
       "      <td>1</td>\n",
       "    </tr>\n",
       "    <tr>\n",
       "      <th>14677</th>\n",
       "      <td>202100056424</td>\n",
       "      <td>1</td>\n",
       "      <td>2</td>\n",
       "      <td>1</td>\n",
       "      <td>2021</td>\n",
       "      <td>2</td>\n",
       "      <td>48,8769050000</td>\n",
       "      <td>2,3665940000</td>\n",
       "      <td>4</td>\n",
       "    </tr>\n",
       "    <tr>\n",
       "      <th>14678</th>\n",
       "      <td>202100056426</td>\n",
       "      <td>50</td>\n",
       "      <td>2</td>\n",
       "      <td>1</td>\n",
       "      <td>2021</td>\n",
       "      <td>2</td>\n",
       "      <td>48,8648160000</td>\n",
       "      <td>2,3221290000</td>\n",
       "      <td>4</td>\n",
       "    </tr>\n",
       "    <tr>\n",
       "      <th>14679</th>\n",
       "      <td>202100056508</td>\n",
       "      <td>1</td>\n",
       "      <td>1</td>\n",
       "      <td>1</td>\n",
       "      <td>2021</td>\n",
       "      <td>1</td>\n",
       "      <td>43,1465730000</td>\n",
       "      <td>-0,1955440000</td>\n",
       "      <td>3</td>\n",
       "    </tr>\n",
       "  </tbody>\n",
       "</table>\n",
       "<p>14680 rows × 9 columns</p>\n",
       "</div>"
      ],
      "text/plain": [
       "            Num_Acc  catv  jour  mois    an  agg            lat  \\\n",
       "0      202100000001     1    30    11  2021    1  44,0389580000   \n",
       "1      202100000001     1    30    11  2021    1  44,0389580000   \n",
       "2      202100000006     1    23    11  2021    2  47,6142390000   \n",
       "3      202100000006     1    23    11  2021    2  47,6142390000   \n",
       "4      202100000038     1     2     9  2021    2  46,7668890000   \n",
       "...             ...   ...   ...   ...   ...  ...            ...   \n",
       "14675  202100056404     1     1     1  2021    2  48,6849869839   \n",
       "14676  202100056424     1     2     1  2021    2  48,8769050000   \n",
       "14677  202100056424     1     2     1  2021    2  48,8769050000   \n",
       "14678  202100056426    50     2     1  2021    2  48,8648160000   \n",
       "14679  202100056508     1     1     1  2021    1  43,1465730000   \n",
       "\n",
       "                 long  grav  \n",
       "0        4,3480220000     3  \n",
       "1        4,3480220000     1  \n",
       "2        7,2343360000     4  \n",
       "3        7,2343360000     1  \n",
       "4        4,4566240000     3  \n",
       "...               ...   ...  \n",
       "14675    6,1760189384     1  \n",
       "14676    2,3665940000     1  \n",
       "14677    2,3665940000     4  \n",
       "14678    2,3221290000     4  \n",
       "14679   -0,1955440000     3  \n",
       "\n",
       "[14680 rows x 9 columns]"
      ]
     },
     "execution_count": 30,
     "metadata": {},
     "output_type": "execute_result"
    }
   ],
   "source": [
    "v_c_u_2021_df"
   ]
  },
  {
   "cell_type": "code",
   "execution_count": 31,
   "metadata": {},
   "outputs": [],
   "source": [
    "reformatDfCoords(v_c_u_2021_df)\n",
    "v_c_u_2021_df.to_csv('bicycle_vae_electricScooter_accidents.csv', index=False)"
   ]
  }
 ],
 "metadata": {
  "kernelspec": {
   "display_name": "Python 3",
   "language": "python",
   "name": "python3"
  },
  "language_info": {
   "codemirror_mode": {
    "name": "ipython",
    "version": 3
   },
   "file_extension": ".py",
   "mimetype": "text/x-python",
   "name": "python",
   "nbconvert_exporter": "python",
   "pygments_lexer": "ipython3",
   "version": "3.11.1"
  },
  "orig_nbformat": 4,
  "vscode": {
   "interpreter": {
    "hash": "e7370f93d1d0cde622a1f8e1c04877d8463912d04d973331ad4851f04de6915a"
   }
  }
 },
 "nbformat": 4,
 "nbformat_minor": 2
}
